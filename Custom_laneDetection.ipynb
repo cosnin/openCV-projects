{
  "cells": [
    {
      "cell_type": "code",
      "metadata": {},
      "source": [
        "import cv2 as cv\n",
        "import numpy as np\n",
        "import matplotlib.pylab as plt\n",
        "\n",
        "\n",
        "#%%\n",
        "def empty(a):\n",
        "    pass"
      ],
      "outputs": [],
      "execution_count": null
    },
    {
      "cell_type": "code",
      "metadata": {},
      "source": [
        "#funtion to mask out 'region of interest'\n",
        "def ROI(image, points):\n",
        "    #creating similar size 'black' image\n",
        "    mask = np.zeros_like(image)\n",
        "    #fitting the point of polygon on the mask\n",
        "    cv.fillPoly(mask, points, (255,255,255))\n",
        "    #combining 'masked image' and 'original image'\n",
        "    masked_image = cv.bitwise_and(image, mask)\n",
        "\n",
        "    return masked_image\n",
        "# %%\n",
        "#function to draw lines on the image by Hough Transform\n",
        "def drawLine(image, lines):\n",
        "    #making an copy of the original image\n",
        "    img = np.copy(image)\n",
        "    #making the copied image of pixel values 0\n",
        "    base = np.zeros((img.shape[0], img.shape[1],3), np.uint8)\n",
        "    #Line from Hough Transform\n",
        "    for line in lines:\n",
        "        #Two end co-ordinate of the line\n",
        "        for ax,ay, bx, by in line:\n",
        "            #creating the line out of the co-ordinate\n",
        "            cv.line(base, (ax,ay), (bx,by), (255,0,255), 5)\n",
        "    #merging original image and lined image\n",
        "    img = cv.addWeighted(img, 0.5, base, 1, 0.0)\n",
        "\n",
        "    return img"
      ],
      "outputs": [],
      "execution_count": null
    },
    {
      "cell_type": "code",
      "metadata": {},
      "source": [
        "def mainProcess(image):\n",
        "    #create grayscale version of original image\n",
        "    imgGray = cv.cvtColor(image,cv.COLOR_BGR2GRAY)\n",
        "    #Blurring image with Gaussian image\n",
        "    imgBlur = cv.GaussianBlur(imgGray,(7,7),0)\n",
        "    #Edge detection by canny method\n",
        "    imgCanny = cv.Canny(imgBlur,40,100)\n",
        "    #custom polygon mask for ROI\n",
        "    polygon2 = np.array([[(220,160),(0,240),(0,410),(280,160),(380,160),(640,410),(640,240),(440,160)]])\n",
        "    #def ROI function\n",
        "    mask = ROI(imgCanny, polygon2)\n",
        "    #producing lines over 'masked image' using HoughP Transform\n",
        "    HPline = cv.HoughLinesP(mask, rho=3, theta=np.pi/60, threshold=30, lines=np.array([]), minLineLength=70, maxLineGap=20)\n",
        "    #def drawLine function\n",
        "    result = drawLine(image, HPline)\n",
        "    return result\n",
        "\n",
        "#%%\n",
        "#reading video\n",
        "cap = cv.VideoCapture(\"taskResources/lane_vgt.mp4\")\n",
        "while(cap.isOpened()):\n",
        "    #reading each frame\n",
        "    sucess, frame = cap.read()\n",
        "    #MAIN PROCESSING\n",
        "    final = mainProcess(frame)\n",
        "    #result frame shown i.e video shown\n",
        "    cv.imshow(\"Processed\",final)\n",
        "    if cv.waitKey(5) & 0xFF == ord('q'):\n",
        "        print(\"INTERRUPTED\")\n",
        "        break"
      ],
      "outputs": [],
      "execution_count": null
    },
    {
      "cell_type": "code",
      "metadata": {},
      "source": [
        "cap.release()\n",
        "cv.destroyAllWindows()"
      ],
      "outputs": [],
      "execution_count": null
    }
  ],
  "metadata": {
    "anaconda-cloud": {},
    "kernelspec": {
      "display_name": "Python 3",
      "language": "python",
      "name": "python3"
    },
    "language_info": {
      "codemirror_mode": {
        "name": "ipython",
        "version": 3
      },
      "file_extension": ".py",
      "mimetype": "text/x-python",
      "name": "python",
      "nbconvert_exporter": "python",
      "pygments_lexer": "ipython3",
      "version": "3.6.1"
    }
  },
  "nbformat": 4,
  "nbformat_minor": 4
}